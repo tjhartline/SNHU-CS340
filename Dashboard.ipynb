# Setup the Jupyter version of Dash
from jupyter_plotly_dash import JupyterDash

from dash.dash_table.Format import Group

# Configure the necessary Python module imports
import dash_leaflet as dl
from dash import dcc, html
import plotly.express as px
from dash import dash_table
from dash.dependencies import Input, Output
import pandas as pd
import os

# Import your AnimalShelter class from the module
from module import AnimalShelter

# Configure the plotting routines
import numpy as np
import pandas as pd
import matplotlib.pyplot as plt

###########################
# Data Manipulation / Model
###########################
# Update with your username and password
username = "aacuser"
password = "adminPassword"
host = os.getenv('MONGO_HOST', 'nv-desktop-services.apporto.com')  # Default to set host
port = int(os.getenv('MONGO_PORT', 30336))  # Default to set port
db = 'AAC'
col = 'animals'
shelter = AnimalShelter(username, password, host, port, db, col)

# Class read method must support return of a list object and accept projection JSON input
# Sending the read method an empty document requests all documents be returned
df = pd.DataFrame.from_records(shelter.read({}))

# MongoDB v5+ is going to return the '_id' column, and that is going to have an 
# invalid object type of 'ObjectID' - which will cause the data_table to crash - so we remove
# it in the dataframe here. The df.drop command allows us to drop the column. If we do not set
# inplace=True, it will return a new dataframe that does not contain the dropped column(s)
df.drop(columns=['_id'], inplace=True)

#########################
# Dashboard Layout / View
#########################
app = JupyterDash('SimpleExample')

app.layout = html.Div([
    html.Div(id='hidden-div', style={'display': 'none'}),
    html.Center(html.B(html.H1('SNHU CS-340 Dashboard\nTammy Hartline'))),
    html.Hr(),
    html.Label("Filter by Breed:"),
    dcc.Dropdown(
        id='filter-dropdown',
        options=[
            {'label': breed, 'value': breed} for breed in df['breed'].unique()
        ],
        multi=True,
        placeholder="Select a breed..."
    ),
    dash_table.DataTable(
        id='datatable-id',
        columns=[
            {"name": i, "id": i, "deletable": False, "selectable": True} for i in df.columns
        ],
        data=df.to_dict('records'),
        # Set up the features for your interactive data table
        # Select first row by default
        selected_rows=[0],
        # Only allow single row selection
        row_selectable="single",

        # Additional database properties for user experience purposes
        # Set initial page to display 0-indexed
        page_current=0,
        # Set the number of rows per page view
        page_size=10,
        # Enable native sorting
        sort_action="native",
        # Enable multi-column sort
        sort_mode="multi",
        # Enable native filtering
        filter_action="native",
        # Adjust table to handle overflow
        style_table={'overflowX': 'auto'}

    ),
    html.Br(),
    html.Hr(),
    html.Div(id='map-container', className='col s12 m6'),  # Fixed this line
])

#############################################
# Interaction Between Components / Controller
#############################################
# This callback will update the geolocation chart for the selected data entry
@app.callback(
    Output('map-container', "children"),  # Fixed this line
    [Input('datatable-id', "derived_virtual_data"),
     Input('datatable-id', "derived_virtual_selected_rows")]
)
def update_map(viewData, index):
    # Create a DataFrame from the derived_virtual_data
    dff = pd.DataFrame.from_dict(viewData)

    # Check if any row is selected; if not, use the first row as the default
    if index is None:
        row = 0
    else:
        row = index[0]

    # Create the geolocation chart (Leaflet map)
    return [
        dl.Map(style={'width': '1000px', 'height': '500px'},
               center=[30.75, -97.48],  # Default center coordinates (Austin, TX)
               zoom=10,  # Default zoom level
               children=[
                   dl.TileLayer(id="base-layer-id"),
                   dl.Marker(position=[dff.iloc[row, 13], dff.iloc[row, 14]],
                             children=[
                                 dl.Tooltip(dff.iloc[row, 4]),  # Display breed as tooltip
                                 dl.Popup([
                                     html.H1("Animal Name"),
                                     html.P(dff.iloc[row, 9])  # Display name in popup
                                 ])
                             ])
               ])
    ]

# Ensure the Jupyter Notebook will render the dashboard
app
